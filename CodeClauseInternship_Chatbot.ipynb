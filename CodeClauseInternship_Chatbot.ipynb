{
  "nbformat": 4,
  "nbformat_minor": 0,
  "metadata": {
    "colab": {
      "provenance": [],
      "authorship_tag": "ABX9TyMOMXf9hFwYQ76BJXjyV8Tc",
      "include_colab_link": true
    },
    "kernelspec": {
      "name": "python3",
      "display_name": "Python 3"
    },
    "language_info": {
      "name": "python"
    }
  },
  "cells": [
    {
      "cell_type": "markdown",
      "metadata": {
        "id": "view-in-github",
        "colab_type": "text"
      },
      "source": [
        "<a href=\"https://colab.research.google.com/github/NethraSubash/CodeClauseInternship_Chatbot/blob/main/CodeClauseInternship_Chatbot.ipynb\" target=\"_parent\"><img src=\"https://colab.research.google.com/assets/colab-badge.svg\" alt=\"Open In Colab\"/></a>"
      ]
    },
    {
      "cell_type": "code",
      "execution_count": 1,
      "metadata": {
        "colab": {
          "base_uri": "https://localhost:8080/"
        },
        "id": "BOrrwsZ9l_e5",
        "outputId": "935fc3e2-5cf1-42ae-8199-f052df192573"
      },
      "outputs": [
        {
          "output_type": "stream",
          "name": "stdout",
          "text": [
            "Hello! I am your chatbot.\n",
            ">hi\n",
            "Hello!\n",
            ">how are you\n",
            "Doing great! How about you?\n",
            ">what are your hobbies\n",
            "I am not sure about that. Can you tell me more?\n",
            ">quit\n",
            "Bye! Have a great day!\n"
          ]
        }
      ],
      "source": [
        "import nltk\n",
        "from nltk.chat.util import Chat, reflections\n",
        "\n",
        "# Predefined pairs of patterns and responses\n",
        "pairs = [\n",
        "    (r'hello|hi|hey', ['Hello!', 'Hi there!', 'Hey! How can I help you?']),\n",
        "    (r'how are you?', ['I am fine, thank you!', 'Doing great! How about you?']),\n",
        "    (r'(.*) your name?', ['I am a chatbot created to assist you.', 'You can call me Chatbot!']),\n",
        "    (r'what can you do?', ['I can chat with you and help you with basic queries.', 'I am here to chat and assist you!']),\n",
        "    (r'(.*) created you?', ['I was created by a developer using Python and NLTK.']),\n",
        "    (r'(.*) (weather|forecast) (.*)', ['Sorry, I cannot provide weather updates at the moment.']),\n",
        "    (r'bye|exit|quit', ['Goodbye! Take care!', 'Bye! Have a great day!']),\n",
        "    (r'(.*)', ['I am not sure about that. Can you tell me more?'])\n",
        "]\n",
        "\n",
        "# Create a chatbot instance\n",
        "chatbot = Chat(pairs, reflections)\n",
        "\n",
        "# Start the chatbot\n",
        "print(\"Hello! I am your chatbot.\")\n",
        "chatbot.converse()"
      ]
    }
  ]
}